{
  "nbformat": 4,
  "nbformat_minor": 0,
  "metadata": {
    "colab": {
      "name": "Customer_Segmentation_with_K-Means.ipynb",
      "provenance": [],
      "authorship_tag": "ABX9TyP5ufn4dPVn0sJPPRfIP+oZ"
    },
    "kernelspec": {
      "name": "python3",
      "display_name": "Python 3"
    },
    "language_info": {
      "name": "python"
    }
  },
  "cells": [
    {
      "cell_type": "markdown",
      "metadata": {
        "id": "unYLiWh9_N9h"
      },
      "source": [
        "*Libraries*"
      ]
    },
    {
      "cell_type": "code",
      "metadata": {
        "id": "tl4O59jO-Gmx"
      },
      "source": [
        "import datetime as dt\n",
        "import numpy as np\n",
        "import pandas as pd\n",
        "import matplotlib.pyplot as plt\n",
        "from sklearn.cluster import KMeans\n",
        "from sklearn.preprocessing import MinMaxScaler\n",
        "from yellowbrick.cluster import KElbowVisualizer\n",
        "from pandas.core.common import SettingWithCopyWarning\n",
        "import warnings"
      ],
      "execution_count": 126,
      "outputs": []
    },
    {
      "cell_type": "markdown",
      "metadata": {
        "id": "oHdiK34__VKf"
      },
      "source": [
        "*pandas options*"
      ]
    },
    {
      "cell_type": "code",
      "metadata": {
        "id": "pyIjrFXn-sZH"
      },
      "source": [
        "pd.set_option('display.max_columns', None)\n",
        "pd.set_option('display.max_rows', None)\n",
        "pd.set_option('display.float_format', lambda x: '%.5f' % x)\n",
        "warnings.simplefilter(action='ignore', category=FutureWarning)\n",
        "warnings.simplefilter(action=\"ignore\", category=SettingWithCopyWarning)\n",
        "pd.set_option('display.width', 500)"
      ],
      "execution_count": 127,
      "outputs": []
    },
    {
      "cell_type": "markdown",
      "metadata": {
        "id": "ovYtp9S4_Y2j"
      },
      "source": [
        "*reading data*"
      ]
    },
    {
      "cell_type": "code",
      "metadata": {
        "id": "ha9_btcw-sdJ"
      },
      "source": [
        "df_ = pd.read_excel(\"online_retail_II.xlsx\", sheet_name=\"Year 2010-2011\")"
      ],
      "execution_count": 128,
      "outputs": []
    },
    {
      "cell_type": "code",
      "metadata": {
        "colab": {
          "base_uri": "https://localhost:8080/",
          "height": 205
        },
        "id": "eqY-MVfGDw9d",
        "outputId": "94a70d98-d1b6-4487-96a5-11adc65319c0"
      },
      "source": [
        "df = df_.copy()\n",
        "df.head()"
      ],
      "execution_count": 129,
      "outputs": [
        {
          "output_type": "execute_result",
          "data": {
            "text/html": [
              "<div>\n",
              "<style scoped>\n",
              "    .dataframe tbody tr th:only-of-type {\n",
              "        vertical-align: middle;\n",
              "    }\n",
              "\n",
              "    .dataframe tbody tr th {\n",
              "        vertical-align: top;\n",
              "    }\n",
              "\n",
              "    .dataframe thead th {\n",
              "        text-align: right;\n",
              "    }\n",
              "</style>\n",
              "<table border=\"1\" class=\"dataframe\">\n",
              "  <thead>\n",
              "    <tr style=\"text-align: right;\">\n",
              "      <th></th>\n",
              "      <th>Invoice</th>\n",
              "      <th>StockCode</th>\n",
              "      <th>Description</th>\n",
              "      <th>Quantity</th>\n",
              "      <th>InvoiceDate</th>\n",
              "      <th>Price</th>\n",
              "      <th>Customer ID</th>\n",
              "      <th>Country</th>\n",
              "    </tr>\n",
              "  </thead>\n",
              "  <tbody>\n",
              "    <tr>\n",
              "      <th>0</th>\n",
              "      <td>536365</td>\n",
              "      <td>85123A</td>\n",
              "      <td>WHITE HANGING HEART T-LIGHT HOLDER</td>\n",
              "      <td>6</td>\n",
              "      <td>2010-12-01 08:26:00</td>\n",
              "      <td>2.55000</td>\n",
              "      <td>17850.00000</td>\n",
              "      <td>United Kingdom</td>\n",
              "    </tr>\n",
              "    <tr>\n",
              "      <th>1</th>\n",
              "      <td>536365</td>\n",
              "      <td>71053</td>\n",
              "      <td>WHITE METAL LANTERN</td>\n",
              "      <td>6</td>\n",
              "      <td>2010-12-01 08:26:00</td>\n",
              "      <td>3.39000</td>\n",
              "      <td>17850.00000</td>\n",
              "      <td>United Kingdom</td>\n",
              "    </tr>\n",
              "    <tr>\n",
              "      <th>2</th>\n",
              "      <td>536365</td>\n",
              "      <td>84406B</td>\n",
              "      <td>CREAM CUPID HEARTS COAT HANGER</td>\n",
              "      <td>8</td>\n",
              "      <td>2010-12-01 08:26:00</td>\n",
              "      <td>2.75000</td>\n",
              "      <td>17850.00000</td>\n",
              "      <td>United Kingdom</td>\n",
              "    </tr>\n",
              "    <tr>\n",
              "      <th>3</th>\n",
              "      <td>536365</td>\n",
              "      <td>84029G</td>\n",
              "      <td>KNITTED UNION FLAG HOT WATER BOTTLE</td>\n",
              "      <td>6</td>\n",
              "      <td>2010-12-01 08:26:00</td>\n",
              "      <td>3.39000</td>\n",
              "      <td>17850.00000</td>\n",
              "      <td>United Kingdom</td>\n",
              "    </tr>\n",
              "    <tr>\n",
              "      <th>4</th>\n",
              "      <td>536365</td>\n",
              "      <td>84029E</td>\n",
              "      <td>RED WOOLLY HOTTIE WHITE HEART.</td>\n",
              "      <td>6</td>\n",
              "      <td>2010-12-01 08:26:00</td>\n",
              "      <td>3.39000</td>\n",
              "      <td>17850.00000</td>\n",
              "      <td>United Kingdom</td>\n",
              "    </tr>\n",
              "  </tbody>\n",
              "</table>\n",
              "</div>"
            ],
            "text/plain": [
              "  Invoice StockCode                          Description  Quantity         InvoiceDate   Price  Customer ID         Country\n",
              "0  536365    85123A   WHITE HANGING HEART T-LIGHT HOLDER         6 2010-12-01 08:26:00 2.55000  17850.00000  United Kingdom\n",
              "1  536365     71053                  WHITE METAL LANTERN         6 2010-12-01 08:26:00 3.39000  17850.00000  United Kingdom\n",
              "2  536365    84406B       CREAM CUPID HEARTS COAT HANGER         8 2010-12-01 08:26:00 2.75000  17850.00000  United Kingdom\n",
              "3  536365    84029G  KNITTED UNION FLAG HOT WATER BOTTLE         6 2010-12-01 08:26:00 3.39000  17850.00000  United Kingdom\n",
              "4  536365    84029E       RED WOOLLY HOTTIE WHITE HEART.         6 2010-12-01 08:26:00 3.39000  17850.00000  United Kingdom"
            ]
          },
          "metadata": {},
          "execution_count": 129
        }
      ]
    },
    {
      "cell_type": "markdown",
      "metadata": {
        "id": "X_MbBEoP_sPi"
      },
      "source": [
        "*Data Preparation*"
      ]
    },
    {
      "cell_type": "code",
      "metadata": {
        "colab": {
          "base_uri": "https://localhost:8080/"
        },
        "id": "8j_sgAuW-shK",
        "outputId": "32c63891-f884-4f1e-c4e1-17c093642e4d"
      },
      "source": [
        "df.isnull().sum()"
      ],
      "execution_count": 130,
      "outputs": [
        {
          "output_type": "execute_result",
          "data": {
            "text/plain": [
              "Invoice             0\n",
              "StockCode           0\n",
              "Description      1454\n",
              "Quantity            0\n",
              "InvoiceDate         0\n",
              "Price               0\n",
              "Customer ID    135080\n",
              "Country             0\n",
              "dtype: int64"
            ]
          },
          "metadata": {},
          "execution_count": 130
        }
      ]
    },
    {
      "cell_type": "code",
      "metadata": {
        "colab": {
          "base_uri": "https://localhost:8080/"
        },
        "id": "EKhQOadi-slA",
        "outputId": "2f47a9eb-3617-4541-e683-1b5651b51ae6"
      },
      "source": [
        "df.dropna(inplace=True)\n",
        "df.isnull().sum()"
      ],
      "execution_count": 131,
      "outputs": [
        {
          "output_type": "execute_result",
          "data": {
            "text/plain": [
              "Invoice        0\n",
              "StockCode      0\n",
              "Description    0\n",
              "Quantity       0\n",
              "InvoiceDate    0\n",
              "Price          0\n",
              "Customer ID    0\n",
              "Country        0\n",
              "dtype: int64"
            ]
          },
          "metadata": {},
          "execution_count": 131
        }
      ]
    },
    {
      "cell_type": "code",
      "metadata": {
        "id": "PcvdbahH-spS"
      },
      "source": [
        "df = df[~df[\"Invoice\"].str.contains(\"C\", na=False)] # deleting canceled transactions\n",
        "\n",
        "df = df[(df['Quantity'] > 0)]\n",
        "\n",
        "df = df[(df['Price'] > 0)]\n",
        "\n",
        "df[\"TotalPrice\"] = df[\"Quantity\"] * df[\"Price\"]"
      ],
      "execution_count": 132,
      "outputs": []
    },
    {
      "cell_type": "code",
      "metadata": {
        "colab": {
          "base_uri": "https://localhost:8080/",
          "height": 205
        },
        "id": "w61svblD-suV",
        "outputId": "95dc2390-0c6c-41f3-db41-4baa7148f6fb"
      },
      "source": [
        "df.head()"
      ],
      "execution_count": 133,
      "outputs": [
        {
          "output_type": "execute_result",
          "data": {
            "text/html": [
              "<div>\n",
              "<style scoped>\n",
              "    .dataframe tbody tr th:only-of-type {\n",
              "        vertical-align: middle;\n",
              "    }\n",
              "\n",
              "    .dataframe tbody tr th {\n",
              "        vertical-align: top;\n",
              "    }\n",
              "\n",
              "    .dataframe thead th {\n",
              "        text-align: right;\n",
              "    }\n",
              "</style>\n",
              "<table border=\"1\" class=\"dataframe\">\n",
              "  <thead>\n",
              "    <tr style=\"text-align: right;\">\n",
              "      <th></th>\n",
              "      <th>Invoice</th>\n",
              "      <th>StockCode</th>\n",
              "      <th>Description</th>\n",
              "      <th>Quantity</th>\n",
              "      <th>InvoiceDate</th>\n",
              "      <th>Price</th>\n",
              "      <th>Customer ID</th>\n",
              "      <th>Country</th>\n",
              "      <th>TotalPrice</th>\n",
              "    </tr>\n",
              "  </thead>\n",
              "  <tbody>\n",
              "    <tr>\n",
              "      <th>0</th>\n",
              "      <td>536365</td>\n",
              "      <td>85123A</td>\n",
              "      <td>WHITE HANGING HEART T-LIGHT HOLDER</td>\n",
              "      <td>6</td>\n",
              "      <td>2010-12-01 08:26:00</td>\n",
              "      <td>2.55000</td>\n",
              "      <td>17850.00000</td>\n",
              "      <td>United Kingdom</td>\n",
              "      <td>15.30000</td>\n",
              "    </tr>\n",
              "    <tr>\n",
              "      <th>1</th>\n",
              "      <td>536365</td>\n",
              "      <td>71053</td>\n",
              "      <td>WHITE METAL LANTERN</td>\n",
              "      <td>6</td>\n",
              "      <td>2010-12-01 08:26:00</td>\n",
              "      <td>3.39000</td>\n",
              "      <td>17850.00000</td>\n",
              "      <td>United Kingdom</td>\n",
              "      <td>20.34000</td>\n",
              "    </tr>\n",
              "    <tr>\n",
              "      <th>2</th>\n",
              "      <td>536365</td>\n",
              "      <td>84406B</td>\n",
              "      <td>CREAM CUPID HEARTS COAT HANGER</td>\n",
              "      <td>8</td>\n",
              "      <td>2010-12-01 08:26:00</td>\n",
              "      <td>2.75000</td>\n",
              "      <td>17850.00000</td>\n",
              "      <td>United Kingdom</td>\n",
              "      <td>22.00000</td>\n",
              "    </tr>\n",
              "    <tr>\n",
              "      <th>3</th>\n",
              "      <td>536365</td>\n",
              "      <td>84029G</td>\n",
              "      <td>KNITTED UNION FLAG HOT WATER BOTTLE</td>\n",
              "      <td>6</td>\n",
              "      <td>2010-12-01 08:26:00</td>\n",
              "      <td>3.39000</td>\n",
              "      <td>17850.00000</td>\n",
              "      <td>United Kingdom</td>\n",
              "      <td>20.34000</td>\n",
              "    </tr>\n",
              "    <tr>\n",
              "      <th>4</th>\n",
              "      <td>536365</td>\n",
              "      <td>84029E</td>\n",
              "      <td>RED WOOLLY HOTTIE WHITE HEART.</td>\n",
              "      <td>6</td>\n",
              "      <td>2010-12-01 08:26:00</td>\n",
              "      <td>3.39000</td>\n",
              "      <td>17850.00000</td>\n",
              "      <td>United Kingdom</td>\n",
              "      <td>20.34000</td>\n",
              "    </tr>\n",
              "  </tbody>\n",
              "</table>\n",
              "</div>"
            ],
            "text/plain": [
              "  Invoice StockCode                          Description  Quantity         InvoiceDate   Price  Customer ID         Country  TotalPrice\n",
              "0  536365    85123A   WHITE HANGING HEART T-LIGHT HOLDER         6 2010-12-01 08:26:00 2.55000  17850.00000  United Kingdom    15.30000\n",
              "1  536365     71053                  WHITE METAL LANTERN         6 2010-12-01 08:26:00 3.39000  17850.00000  United Kingdom    20.34000\n",
              "2  536365    84406B       CREAM CUPID HEARTS COAT HANGER         8 2010-12-01 08:26:00 2.75000  17850.00000  United Kingdom    22.00000\n",
              "3  536365    84029G  KNITTED UNION FLAG HOT WATER BOTTLE         6 2010-12-01 08:26:00 3.39000  17850.00000  United Kingdom    20.34000\n",
              "4  536365    84029E       RED WOOLLY HOTTIE WHITE HEART.         6 2010-12-01 08:26:00 3.39000  17850.00000  United Kingdom    20.34000"
            ]
          },
          "metadata": {},
          "execution_count": 133
        }
      ]
    },
    {
      "cell_type": "markdown",
      "metadata": {
        "id": "RNA6o4mc_7jF"
      },
      "source": [
        "*Calculating RFM Metrics*"
      ]
    },
    {
      "cell_type": "code",
      "metadata": {
        "colab": {
          "base_uri": "https://localhost:8080/"
        },
        "id": "69p_Kgih_4Jr",
        "outputId": "3ad44fd8-5917-409a-b982-0b5e83dee1be"
      },
      "source": [
        "df[\"InvoiceDate\"].max()"
      ],
      "execution_count": 134,
      "outputs": [
        {
          "output_type": "execute_result",
          "data": {
            "text/plain": [
              "Timestamp('2011-12-09 12:50:00')"
            ]
          },
          "metadata": {},
          "execution_count": 134
        }
      ]
    },
    {
      "cell_type": "code",
      "metadata": {
        "colab": {
          "base_uri": "https://localhost:8080/",
          "height": 236
        },
        "id": "4Wubtwk5_4OB",
        "outputId": "4fa9eb30-4869-4cf4-8e2d-bb1a932adcc3"
      },
      "source": [
        "today_date = dt.datetime(2011, 12, 11)\n",
        "\n",
        "\n",
        "rfm = df.groupby('Customer ID').agg({'InvoiceDate': lambda x: (today_date - x.max()).days, # recency value\n",
        "                                     'Invoice': lambda x: x.nunique(),                     # frequency value\n",
        "                                     'TotalPrice': lambda x: x.sum()})                     # monetary value\n",
        "\n",
        "\n",
        "rfm.columns = ['recency', 'frequency', 'monetary']\n",
        "\n",
        "rfm = rfm[(rfm['monetary'] > 0)]\n",
        "\n",
        "rfm.head()"
      ],
      "execution_count": 135,
      "outputs": [
        {
          "output_type": "execute_result",
          "data": {
            "text/html": [
              "<div>\n",
              "<style scoped>\n",
              "    .dataframe tbody tr th:only-of-type {\n",
              "        vertical-align: middle;\n",
              "    }\n",
              "\n",
              "    .dataframe tbody tr th {\n",
              "        vertical-align: top;\n",
              "    }\n",
              "\n",
              "    .dataframe thead th {\n",
              "        text-align: right;\n",
              "    }\n",
              "</style>\n",
              "<table border=\"1\" class=\"dataframe\">\n",
              "  <thead>\n",
              "    <tr style=\"text-align: right;\">\n",
              "      <th></th>\n",
              "      <th>recency</th>\n",
              "      <th>frequency</th>\n",
              "      <th>monetary</th>\n",
              "    </tr>\n",
              "    <tr>\n",
              "      <th>Customer ID</th>\n",
              "      <th></th>\n",
              "      <th></th>\n",
              "      <th></th>\n",
              "    </tr>\n",
              "  </thead>\n",
              "  <tbody>\n",
              "    <tr>\n",
              "      <th>12346.00000</th>\n",
              "      <td>326</td>\n",
              "      <td>1</td>\n",
              "      <td>77183.60000</td>\n",
              "    </tr>\n",
              "    <tr>\n",
              "      <th>12347.00000</th>\n",
              "      <td>3</td>\n",
              "      <td>7</td>\n",
              "      <td>4310.00000</td>\n",
              "    </tr>\n",
              "    <tr>\n",
              "      <th>12348.00000</th>\n",
              "      <td>76</td>\n",
              "      <td>4</td>\n",
              "      <td>1797.24000</td>\n",
              "    </tr>\n",
              "    <tr>\n",
              "      <th>12349.00000</th>\n",
              "      <td>19</td>\n",
              "      <td>1</td>\n",
              "      <td>1757.55000</td>\n",
              "    </tr>\n",
              "    <tr>\n",
              "      <th>12350.00000</th>\n",
              "      <td>311</td>\n",
              "      <td>1</td>\n",
              "      <td>334.40000</td>\n",
              "    </tr>\n",
              "  </tbody>\n",
              "</table>\n",
              "</div>"
            ],
            "text/plain": [
              "             recency  frequency    monetary\n",
              "Customer ID                                \n",
              "12346.00000      326          1 77183.60000\n",
              "12347.00000        3          7  4310.00000\n",
              "12348.00000       76          4  1797.24000\n",
              "12349.00000       19          1  1757.55000\n",
              "12350.00000      311          1   334.40000"
            ]
          },
          "metadata": {},
          "execution_count": 135
        }
      ]
    },
    {
      "cell_type": "markdown",
      "metadata": {
        "id": "1ME5XBseAGgT"
      },
      "source": [
        "*Calculating RFM Scores*"
      ]
    },
    {
      "cell_type": "code",
      "metadata": {
        "colab": {
          "base_uri": "https://localhost:8080/",
          "height": 236
        },
        "id": "B6wzHBqZ_4Sy",
        "outputId": "67ab33ac-6bbf-44ba-e484-10c643ae9895"
      },
      "source": [
        "rfm[\"recency_score\"] = pd.qcut(rfm['recency'], 5, labels=[5, 4, 3, 2, 1])\n",
        "\n",
        "rfm[\"frequency_score\"] = pd.qcut(rfm['frequency'].rank(method=\"first\"), 5, labels=[1, 2, 3, 4, 5])\n",
        "\n",
        "rfm[\"monetary_score\"] = pd.qcut(rfm['monetary'], 5, labels=[1, 2, 3, 4, 5])\n",
        "\n",
        "rfm[\"RFM_SCORE\"] = (rfm['recency_score'].astype(str) +\n",
        "                    rfm['frequency_score'].astype(str))\n",
        "rfm.head()"
      ],
      "execution_count": 136,
      "outputs": [
        {
          "output_type": "execute_result",
          "data": {
            "text/html": [
              "<div>\n",
              "<style scoped>\n",
              "    .dataframe tbody tr th:only-of-type {\n",
              "        vertical-align: middle;\n",
              "    }\n",
              "\n",
              "    .dataframe tbody tr th {\n",
              "        vertical-align: top;\n",
              "    }\n",
              "\n",
              "    .dataframe thead th {\n",
              "        text-align: right;\n",
              "    }\n",
              "</style>\n",
              "<table border=\"1\" class=\"dataframe\">\n",
              "  <thead>\n",
              "    <tr style=\"text-align: right;\">\n",
              "      <th></th>\n",
              "      <th>recency</th>\n",
              "      <th>frequency</th>\n",
              "      <th>monetary</th>\n",
              "      <th>recency_score</th>\n",
              "      <th>frequency_score</th>\n",
              "      <th>monetary_score</th>\n",
              "      <th>RFM_SCORE</th>\n",
              "    </tr>\n",
              "    <tr>\n",
              "      <th>Customer ID</th>\n",
              "      <th></th>\n",
              "      <th></th>\n",
              "      <th></th>\n",
              "      <th></th>\n",
              "      <th></th>\n",
              "      <th></th>\n",
              "      <th></th>\n",
              "    </tr>\n",
              "  </thead>\n",
              "  <tbody>\n",
              "    <tr>\n",
              "      <th>12346.00000</th>\n",
              "      <td>326</td>\n",
              "      <td>1</td>\n",
              "      <td>77183.60000</td>\n",
              "      <td>1</td>\n",
              "      <td>1</td>\n",
              "      <td>5</td>\n",
              "      <td>11</td>\n",
              "    </tr>\n",
              "    <tr>\n",
              "      <th>12347.00000</th>\n",
              "      <td>3</td>\n",
              "      <td>7</td>\n",
              "      <td>4310.00000</td>\n",
              "      <td>5</td>\n",
              "      <td>5</td>\n",
              "      <td>5</td>\n",
              "      <td>55</td>\n",
              "    </tr>\n",
              "    <tr>\n",
              "      <th>12348.00000</th>\n",
              "      <td>76</td>\n",
              "      <td>4</td>\n",
              "      <td>1797.24000</td>\n",
              "      <td>2</td>\n",
              "      <td>4</td>\n",
              "      <td>4</td>\n",
              "      <td>24</td>\n",
              "    </tr>\n",
              "    <tr>\n",
              "      <th>12349.00000</th>\n",
              "      <td>19</td>\n",
              "      <td>1</td>\n",
              "      <td>1757.55000</td>\n",
              "      <td>4</td>\n",
              "      <td>1</td>\n",
              "      <td>4</td>\n",
              "      <td>41</td>\n",
              "    </tr>\n",
              "    <tr>\n",
              "      <th>12350.00000</th>\n",
              "      <td>311</td>\n",
              "      <td>1</td>\n",
              "      <td>334.40000</td>\n",
              "      <td>1</td>\n",
              "      <td>1</td>\n",
              "      <td>2</td>\n",
              "      <td>11</td>\n",
              "    </tr>\n",
              "  </tbody>\n",
              "</table>\n",
              "</div>"
            ],
            "text/plain": [
              "             recency  frequency    monetary recency_score frequency_score monetary_score RFM_SCORE\n",
              "Customer ID                                                                                       \n",
              "12346.00000      326          1 77183.60000             1               1              5        11\n",
              "12347.00000        3          7  4310.00000             5               5              5        55\n",
              "12348.00000       76          4  1797.24000             2               4              4        24\n",
              "12349.00000       19          1  1757.55000             4               1              4        41\n",
              "12350.00000      311          1   334.40000             1               1              2        11"
            ]
          },
          "metadata": {},
          "execution_count": 136
        }
      ]
    },
    {
      "cell_type": "markdown",
      "metadata": {
        "id": "M6z178q0ALMS"
      },
      "source": [
        "*Creating & Analysing RFM Segments*"
      ]
    },
    {
      "cell_type": "code",
      "metadata": {
        "id": "_RYRKKrr_4XS"
      },
      "source": [
        "seg_map = {\n",
        "    r'[1-2][1-2]': 'hibernating',\n",
        "    r'[1-2][3-4]': 'at_Risk',\n",
        "    r'[1-2]5': 'cant_loose',\n",
        "    r'3[1-2]': 'about_to_sleep',\n",
        "    r'33': 'need_attention',\n",
        "    r'[3-4][4-5]': 'loyal_customers',\n",
        "    r'41': 'promising',\n",
        "    r'51': 'new_customers',\n",
        "    r'[4-5][2-3]': 'potential_loyalists',\n",
        "    r'5[4-5]': 'champions'\n",
        "}"
      ],
      "execution_count": 137,
      "outputs": []
    },
    {
      "cell_type": "code",
      "metadata": {
        "id": "GA7qqEX8_4bZ"
      },
      "source": [
        "rfm['segment'] = rfm['RFM_SCORE'].replace(seg_map, regex=True)"
      ],
      "execution_count": 138,
      "outputs": []
    },
    {
      "cell_type": "code",
      "metadata": {
        "colab": {
          "base_uri": "https://localhost:8080/",
          "height": 236
        },
        "id": "rZkdvBZL_4fM",
        "outputId": "4186435e-07b5-4ecd-f5d1-20fe103bf106"
      },
      "source": [
        "rfm.head()"
      ],
      "execution_count": 139,
      "outputs": [
        {
          "output_type": "execute_result",
          "data": {
            "text/html": [
              "<div>\n",
              "<style scoped>\n",
              "    .dataframe tbody tr th:only-of-type {\n",
              "        vertical-align: middle;\n",
              "    }\n",
              "\n",
              "    .dataframe tbody tr th {\n",
              "        vertical-align: top;\n",
              "    }\n",
              "\n",
              "    .dataframe thead th {\n",
              "        text-align: right;\n",
              "    }\n",
              "</style>\n",
              "<table border=\"1\" class=\"dataframe\">\n",
              "  <thead>\n",
              "    <tr style=\"text-align: right;\">\n",
              "      <th></th>\n",
              "      <th>recency</th>\n",
              "      <th>frequency</th>\n",
              "      <th>monetary</th>\n",
              "      <th>recency_score</th>\n",
              "      <th>frequency_score</th>\n",
              "      <th>monetary_score</th>\n",
              "      <th>RFM_SCORE</th>\n",
              "      <th>segment</th>\n",
              "    </tr>\n",
              "    <tr>\n",
              "      <th>Customer ID</th>\n",
              "      <th></th>\n",
              "      <th></th>\n",
              "      <th></th>\n",
              "      <th></th>\n",
              "      <th></th>\n",
              "      <th></th>\n",
              "      <th></th>\n",
              "      <th></th>\n",
              "    </tr>\n",
              "  </thead>\n",
              "  <tbody>\n",
              "    <tr>\n",
              "      <th>12346.00000</th>\n",
              "      <td>326</td>\n",
              "      <td>1</td>\n",
              "      <td>77183.60000</td>\n",
              "      <td>1</td>\n",
              "      <td>1</td>\n",
              "      <td>5</td>\n",
              "      <td>11</td>\n",
              "      <td>hibernating</td>\n",
              "    </tr>\n",
              "    <tr>\n",
              "      <th>12347.00000</th>\n",
              "      <td>3</td>\n",
              "      <td>7</td>\n",
              "      <td>4310.00000</td>\n",
              "      <td>5</td>\n",
              "      <td>5</td>\n",
              "      <td>5</td>\n",
              "      <td>55</td>\n",
              "      <td>champions</td>\n",
              "    </tr>\n",
              "    <tr>\n",
              "      <th>12348.00000</th>\n",
              "      <td>76</td>\n",
              "      <td>4</td>\n",
              "      <td>1797.24000</td>\n",
              "      <td>2</td>\n",
              "      <td>4</td>\n",
              "      <td>4</td>\n",
              "      <td>24</td>\n",
              "      <td>at_Risk</td>\n",
              "    </tr>\n",
              "    <tr>\n",
              "      <th>12349.00000</th>\n",
              "      <td>19</td>\n",
              "      <td>1</td>\n",
              "      <td>1757.55000</td>\n",
              "      <td>4</td>\n",
              "      <td>1</td>\n",
              "      <td>4</td>\n",
              "      <td>41</td>\n",
              "      <td>promising</td>\n",
              "    </tr>\n",
              "    <tr>\n",
              "      <th>12350.00000</th>\n",
              "      <td>311</td>\n",
              "      <td>1</td>\n",
              "      <td>334.40000</td>\n",
              "      <td>1</td>\n",
              "      <td>1</td>\n",
              "      <td>2</td>\n",
              "      <td>11</td>\n",
              "      <td>hibernating</td>\n",
              "    </tr>\n",
              "  </tbody>\n",
              "</table>\n",
              "</div>"
            ],
            "text/plain": [
              "             recency  frequency    monetary recency_score frequency_score monetary_score RFM_SCORE      segment\n",
              "Customer ID                                                                                                    \n",
              "12346.00000      326          1 77183.60000             1               1              5        11  hibernating\n",
              "12347.00000        3          7  4310.00000             5               5              5        55    champions\n",
              "12348.00000       76          4  1797.24000             2               4              4        24      at_Risk\n",
              "12349.00000       19          1  1757.55000             4               1              4        41    promising\n",
              "12350.00000      311          1   334.40000             1               1              2        11  hibernating"
            ]
          },
          "metadata": {},
          "execution_count": 139
        }
      ]
    },
    {
      "cell_type": "code",
      "metadata": {
        "colab": {
          "base_uri": "https://localhost:8080/",
          "height": 423
        },
        "id": "RaTtEWSvAU2O",
        "outputId": "2ed5104d-bdba-4dd9-8c11-efe3c6d63814"
      },
      "source": [
        "rfm[[\"segment\", \"recency\", \"frequency\", \"monetary\"]].groupby(\"segment\").agg([\"mean\", \"count\"])"
      ],
      "execution_count": 140,
      "outputs": [
        {
          "output_type": "execute_result",
          "data": {
            "text/html": [
              "<div>\n",
              "<style scoped>\n",
              "    .dataframe tbody tr th:only-of-type {\n",
              "        vertical-align: middle;\n",
              "    }\n",
              "\n",
              "    .dataframe tbody tr th {\n",
              "        vertical-align: top;\n",
              "    }\n",
              "\n",
              "    .dataframe thead tr th {\n",
              "        text-align: left;\n",
              "    }\n",
              "\n",
              "    .dataframe thead tr:last-of-type th {\n",
              "        text-align: right;\n",
              "    }\n",
              "</style>\n",
              "<table border=\"1\" class=\"dataframe\">\n",
              "  <thead>\n",
              "    <tr>\n",
              "      <th></th>\n",
              "      <th colspan=\"2\" halign=\"left\">recency</th>\n",
              "      <th colspan=\"2\" halign=\"left\">frequency</th>\n",
              "      <th colspan=\"2\" halign=\"left\">monetary</th>\n",
              "    </tr>\n",
              "    <tr>\n",
              "      <th></th>\n",
              "      <th>mean</th>\n",
              "      <th>count</th>\n",
              "      <th>mean</th>\n",
              "      <th>count</th>\n",
              "      <th>mean</th>\n",
              "      <th>count</th>\n",
              "    </tr>\n",
              "    <tr>\n",
              "      <th>segment</th>\n",
              "      <th></th>\n",
              "      <th></th>\n",
              "      <th></th>\n",
              "      <th></th>\n",
              "      <th></th>\n",
              "      <th></th>\n",
              "    </tr>\n",
              "  </thead>\n",
              "  <tbody>\n",
              "    <tr>\n",
              "      <th>about_to_sleep</th>\n",
              "      <td>53.31250</td>\n",
              "      <td>352</td>\n",
              "      <td>1.16193</td>\n",
              "      <td>352</td>\n",
              "      <td>471.99437</td>\n",
              "      <td>352</td>\n",
              "    </tr>\n",
              "    <tr>\n",
              "      <th>at_Risk</th>\n",
              "      <td>153.78583</td>\n",
              "      <td>593</td>\n",
              "      <td>2.87690</td>\n",
              "      <td>593</td>\n",
              "      <td>1084.53530</td>\n",
              "      <td>593</td>\n",
              "    </tr>\n",
              "    <tr>\n",
              "      <th>cant_loose</th>\n",
              "      <td>132.96825</td>\n",
              "      <td>63</td>\n",
              "      <td>8.38095</td>\n",
              "      <td>63</td>\n",
              "      <td>2796.15587</td>\n",
              "      <td>63</td>\n",
              "    </tr>\n",
              "    <tr>\n",
              "      <th>champions</th>\n",
              "      <td>6.36177</td>\n",
              "      <td>633</td>\n",
              "      <td>12.41390</td>\n",
              "      <td>633</td>\n",
              "      <td>6857.96392</td>\n",
              "      <td>633</td>\n",
              "    </tr>\n",
              "    <tr>\n",
              "      <th>hibernating</th>\n",
              "      <td>217.60504</td>\n",
              "      <td>1071</td>\n",
              "      <td>1.10177</td>\n",
              "      <td>1071</td>\n",
              "      <td>488.64331</td>\n",
              "      <td>1071</td>\n",
              "    </tr>\n",
              "    <tr>\n",
              "      <th>loyal_customers</th>\n",
              "      <td>33.60806</td>\n",
              "      <td>819</td>\n",
              "      <td>6.47985</td>\n",
              "      <td>819</td>\n",
              "      <td>2864.24779</td>\n",
              "      <td>819</td>\n",
              "    </tr>\n",
              "    <tr>\n",
              "      <th>need_attention</th>\n",
              "      <td>52.42781</td>\n",
              "      <td>187</td>\n",
              "      <td>2.32620</td>\n",
              "      <td>187</td>\n",
              "      <td>897.62786</td>\n",
              "      <td>187</td>\n",
              "    </tr>\n",
              "    <tr>\n",
              "      <th>new_customers</th>\n",
              "      <td>7.42857</td>\n",
              "      <td>42</td>\n",
              "      <td>1.00000</td>\n",
              "      <td>42</td>\n",
              "      <td>388.21286</td>\n",
              "      <td>42</td>\n",
              "    </tr>\n",
              "    <tr>\n",
              "      <th>potential_loyalists</th>\n",
              "      <td>17.39876</td>\n",
              "      <td>484</td>\n",
              "      <td>2.01033</td>\n",
              "      <td>484</td>\n",
              "      <td>1041.22200</td>\n",
              "      <td>484</td>\n",
              "    </tr>\n",
              "    <tr>\n",
              "      <th>promising</th>\n",
              "      <td>23.51064</td>\n",
              "      <td>94</td>\n",
              "      <td>1.00000</td>\n",
              "      <td>94</td>\n",
              "      <td>294.00798</td>\n",
              "      <td>94</td>\n",
              "    </tr>\n",
              "  </tbody>\n",
              "</table>\n",
              "</div>"
            ],
            "text/plain": [
              "                      recency       frequency         monetary      \n",
              "                         mean count      mean count       mean count\n",
              "segment                                                             \n",
              "about_to_sleep       53.31250   352   1.16193   352  471.99437   352\n",
              "at_Risk             153.78583   593   2.87690   593 1084.53530   593\n",
              "cant_loose          132.96825    63   8.38095    63 2796.15587    63\n",
              "champions             6.36177   633  12.41390   633 6857.96392   633\n",
              "hibernating         217.60504  1071   1.10177  1071  488.64331  1071\n",
              "loyal_customers      33.60806   819   6.47985   819 2864.24779   819\n",
              "need_attention       52.42781   187   2.32620   187  897.62786   187\n",
              "new_customers         7.42857    42   1.00000    42  388.21286    42\n",
              "potential_loyalists  17.39876   484   2.01033   484 1041.22200   484\n",
              "promising            23.51064    94   1.00000    94  294.00798    94"
            ]
          },
          "metadata": {},
          "execution_count": 140
        }
      ]
    },
    {
      "cell_type": "markdown",
      "metadata": {
        "id": "w7SA2n5sAYYl"
      },
      "source": [
        "# K_MEANS"
      ]
    },
    {
      "cell_type": "markdown",
      "metadata": {
        "id": "r7dFJt0gAaME"
      },
      "source": [
        "*Data Scaling*"
      ]
    },
    {
      "cell_type": "code",
      "metadata": {
        "colab": {
          "base_uri": "https://localhost:8080/"
        },
        "id": "puMPrpQ3AU6r",
        "outputId": "498b0a73-818b-4bd3-a628-a3d2d00440e9"
      },
      "source": [
        "scaler = MinMaxScaler((0, 1))\n",
        "scaler.fit_transform(rfm[[\"recency\", \"frequency\", \"monetary\"]])"
      ],
      "execution_count": 141,
      "outputs": [
        {
          "output_type": "execute_result",
          "data": {
            "text/plain": [
              "array([[8.71313673e-01, 0.00000000e+00, 2.75443343e-01],\n",
              "       [5.36193029e-03, 2.88461538e-02, 1.53683623e-02],\n",
              "       [2.01072386e-01, 1.44230769e-02, 6.40069761e-03],\n",
              "       ...,\n",
              "       [1.87667560e-02, 4.80769231e-03, 6.22050635e-04],\n",
              "       [8.04289544e-03, 7.21153846e-02, 7.46293026e-03],\n",
              "       [1.12600536e-01, 9.61538462e-03, 6.54359438e-03]])"
            ]
          },
          "metadata": {},
          "execution_count": 141
        }
      ]
    },
    {
      "cell_type": "code",
      "metadata": {
        "colab": {
          "base_uri": "https://localhost:8080/",
          "height": 205
        },
        "id": "LKwS54MEAU-h",
        "outputId": "1e837d47-dcc7-4385-a7dc-83660173de9a"
      },
      "source": [
        "segment_data = pd.DataFrame(scaler.fit_transform(rfm[[\"recency\", \"frequency\", \"monetary\"]]),\n",
        "                            index=rfm.index, columns=[\"new_Recency\", \"new_Frequency\", \"new_Monetary\"])\n",
        "segment_data.reset_index(inplace=True)\n",
        "segment_data.head()"
      ],
      "execution_count": 142,
      "outputs": [
        {
          "output_type": "execute_result",
          "data": {
            "text/html": [
              "<div>\n",
              "<style scoped>\n",
              "    .dataframe tbody tr th:only-of-type {\n",
              "        vertical-align: middle;\n",
              "    }\n",
              "\n",
              "    .dataframe tbody tr th {\n",
              "        vertical-align: top;\n",
              "    }\n",
              "\n",
              "    .dataframe thead th {\n",
              "        text-align: right;\n",
              "    }\n",
              "</style>\n",
              "<table border=\"1\" class=\"dataframe\">\n",
              "  <thead>\n",
              "    <tr style=\"text-align: right;\">\n",
              "      <th></th>\n",
              "      <th>Customer ID</th>\n",
              "      <th>new_Recency</th>\n",
              "      <th>new_Frequency</th>\n",
              "      <th>new_Monetary</th>\n",
              "    </tr>\n",
              "  </thead>\n",
              "  <tbody>\n",
              "    <tr>\n",
              "      <th>0</th>\n",
              "      <td>12346.00000</td>\n",
              "      <td>0.87131</td>\n",
              "      <td>0.00000</td>\n",
              "      <td>0.27544</td>\n",
              "    </tr>\n",
              "    <tr>\n",
              "      <th>1</th>\n",
              "      <td>12347.00000</td>\n",
              "      <td>0.00536</td>\n",
              "      <td>0.02885</td>\n",
              "      <td>0.01537</td>\n",
              "    </tr>\n",
              "    <tr>\n",
              "      <th>2</th>\n",
              "      <td>12348.00000</td>\n",
              "      <td>0.20107</td>\n",
              "      <td>0.01442</td>\n",
              "      <td>0.00640</td>\n",
              "    </tr>\n",
              "    <tr>\n",
              "      <th>3</th>\n",
              "      <td>12349.00000</td>\n",
              "      <td>0.04826</td>\n",
              "      <td>0.00000</td>\n",
              "      <td>0.00626</td>\n",
              "    </tr>\n",
              "    <tr>\n",
              "      <th>4</th>\n",
              "      <td>12350.00000</td>\n",
              "      <td>0.83110</td>\n",
              "      <td>0.00000</td>\n",
              "      <td>0.00118</td>\n",
              "    </tr>\n",
              "  </tbody>\n",
              "</table>\n",
              "</div>"
            ],
            "text/plain": [
              "   Customer ID  new_Recency  new_Frequency  new_Monetary\n",
              "0  12346.00000      0.87131        0.00000       0.27544\n",
              "1  12347.00000      0.00536        0.02885       0.01537\n",
              "2  12348.00000      0.20107        0.01442       0.00640\n",
              "3  12349.00000      0.04826        0.00000       0.00626\n",
              "4  12350.00000      0.83110        0.00000       0.00118"
            ]
          },
          "metadata": {},
          "execution_count": 142
        }
      ]
    },
    {
      "cell_type": "markdown",
      "metadata": {
        "id": "Ta3jVDw1AmJV"
      },
      "source": [
        "*Determining the Optimum Number of K-Means Clusters*"
      ]
    },
    {
      "cell_type": "code",
      "metadata": {
        "colab": {
          "base_uri": "https://localhost:8080/",
          "height": 543
        },
        "id": "yG4XLwEYAVGy",
        "outputId": "4918daf1-340c-4728-cca7-10afc89fd424"
      },
      "source": [
        "kmeans = KMeans()\n",
        "elbow = KElbowVisualizer(kmeans, k=(2, 20))\n",
        "elbow.fit(segment_data)\n",
        "elbow.show()"
      ],
      "execution_count": 143,
      "outputs": [
        {
          "output_type": "error",
          "ename": "AttributeError",
          "evalue": "ignored",
          "traceback": [
            "\u001b[0;31m---------------------------------------------------------------------------\u001b[0m",
            "\u001b[0;31mAttributeError\u001b[0m                            Traceback (most recent call last)",
            "\u001b[0;32m<ipython-input-143-0ee88a60d7d8>\u001b[0m in \u001b[0;36m<module>\u001b[0;34m()\u001b[0m\n\u001b[1;32m      2\u001b[0m \u001b[0melbow\u001b[0m \u001b[0;34m=\u001b[0m \u001b[0mKElbowVisualizer\u001b[0m\u001b[0;34m(\u001b[0m\u001b[0mkmeans\u001b[0m\u001b[0;34m,\u001b[0m \u001b[0mk\u001b[0m\u001b[0;34m=\u001b[0m\u001b[0;34m(\u001b[0m\u001b[0;36m2\u001b[0m\u001b[0;34m,\u001b[0m \u001b[0;36m20\u001b[0m\u001b[0;34m)\u001b[0m\u001b[0;34m)\u001b[0m\u001b[0;34m\u001b[0m\u001b[0;34m\u001b[0m\u001b[0m\n\u001b[1;32m      3\u001b[0m \u001b[0melbow\u001b[0m\u001b[0;34m.\u001b[0m\u001b[0mfit\u001b[0m\u001b[0;34m(\u001b[0m\u001b[0msegment_data\u001b[0m\u001b[0;34m)\u001b[0m\u001b[0;34m\u001b[0m\u001b[0;34m\u001b[0m\u001b[0m\n\u001b[0;32m----> 4\u001b[0;31m \u001b[0melbow\u001b[0m\u001b[0;34m.\u001b[0m\u001b[0mshow\u001b[0m\u001b[0;34m(\u001b[0m\u001b[0;34m)\u001b[0m\u001b[0;34m\u001b[0m\u001b[0;34m\u001b[0m\u001b[0m\n\u001b[0m",
            "\u001b[0;32m/usr/local/lib/python3.7/dist-packages/yellowbrick/utils/wrapper.py\u001b[0m in \u001b[0;36m__getattr__\u001b[0;34m(self, attr)\u001b[0m\n\u001b[1;32m     40\u001b[0m     \u001b[0;32mdef\u001b[0m \u001b[0m__getattr__\u001b[0m\u001b[0;34m(\u001b[0m\u001b[0mself\u001b[0m\u001b[0;34m,\u001b[0m \u001b[0mattr\u001b[0m\u001b[0;34m)\u001b[0m\u001b[0;34m:\u001b[0m\u001b[0;34m\u001b[0m\u001b[0;34m\u001b[0m\u001b[0m\n\u001b[1;32m     41\u001b[0m         \u001b[0;31m# proxy to the wrapped object\u001b[0m\u001b[0;34m\u001b[0m\u001b[0;34m\u001b[0m\u001b[0;34m\u001b[0m\u001b[0m\n\u001b[0;32m---> 42\u001b[0;31m         \u001b[0;32mreturn\u001b[0m \u001b[0mgetattr\u001b[0m\u001b[0;34m(\u001b[0m\u001b[0mself\u001b[0m\u001b[0;34m.\u001b[0m\u001b[0m_wrapped\u001b[0m\u001b[0;34m,\u001b[0m \u001b[0mattr\u001b[0m\u001b[0;34m)\u001b[0m\u001b[0;34m\u001b[0m\u001b[0;34m\u001b[0m\u001b[0m\n\u001b[0m",
            "\u001b[0;31mAttributeError\u001b[0m: 'KMeans' object has no attribute 'show'"
          ]
        },
        {
          "output_type": "display_data",
          "data": {
            "image/png": "[encoded data removed]",
            "text/plain": [
              "<Figure size 432x288 with 2 Axes>"
            ]
          },
          "metadata": {
            "needs_background": "light"
          }
        }
      ]
    },
    {
      "cell_type": "code",
      "metadata": {
        "colab": {
          "base_uri": "https://localhost:8080/",
          "height": 294
        },
        "id": "uTGJaSxBAVK7",
        "outputId": "fccf0b44-449f-4c10-c2f8-461de289b271"
      },
      "source": [
        "# Manual method for cluster count\n",
        "segment_data = pd.DataFrame(scaler.fit_transform(rfm[[\"recency\", \"frequency\", \"monetary\"]]),\n",
        "                            index=rfm.index, columns=[\"Recency_new\", \"Frequency_new\", \"Monetary_new\"])\n",
        "\n",
        "kmeans = KMeans()\n",
        "ssd = []\n",
        "K = range(1, 16)\n",
        "\n",
        "for k in K:\n",
        "    kmeans = KMeans(n_clusters=k).fit(segment_data)\n",
        "    ssd.append(kmeans.inertia_)\n",
        "\n",
        "ssd\n",
        "\n",
        "plt.plot(K, ssd, \"bx-\")\n",
        "plt.xlabel(\"Distance Residual Sums Against Different K Values\")\n",
        "plt.title(\"Elbow Method for Optimum Number of Clusters\")\n",
        "plt.show()"
      ],
      "execution_count": 144,
      "outputs": [
        {
          "output_type": "display_data",
          "data": {
            "image/png": "[encoded data removed]",
            "text/plain": [
              "<Figure size 432x288 with 1 Axes>"
            ]
          },
          "metadata": {
            "needs_background": "light"
          }
        }
      ]
    },
    {
      "cell_type": "markdown",
      "metadata": {
        "id": "dhs_6X2yAtHs"
      },
      "source": [
        "*Final Model*"
      ]
    },
    {
      "cell_type": "code",
      "metadata": {
        "id": "mAY0OAmxAVP_"
      },
      "source": [
        "kmeans = KMeans(n_clusters=6).fit(segment_data) # kmeans object"
      ],
      "execution_count": 145,
      "outputs": []
    },
    {
      "cell_type": "code",
      "metadata": {
        "colab": {
          "base_uri": "https://localhost:8080/",
          "height": 236
        },
        "id": "YumcSidtE7rc",
        "outputId": "3f1a0f9f-cebe-4c1e-9cbe-f47095b6798c"
      },
      "source": [
        "segment_data[\"clusters\"] = kmeans.labels_ # created \"cluster\" column\n",
        "segment_data.head()"
      ],
      "execution_count": 146,
      "outputs": [
        {
          "output_type": "execute_result",
          "data": {
            "text/html": [
              "<div>\n",
              "<style scoped>\n",
              "    .dataframe tbody tr th:only-of-type {\n",
              "        vertical-align: middle;\n",
              "    }\n",
              "\n",
              "    .dataframe tbody tr th {\n",
              "        vertical-align: top;\n",
              "    }\n",
              "\n",
              "    .dataframe thead th {\n",
              "        text-align: right;\n",
              "    }\n",
              "</style>\n",
              "<table border=\"1\" class=\"dataframe\">\n",
              "  <thead>\n",
              "    <tr style=\"text-align: right;\">\n",
              "      <th></th>\n",
              "      <th>Recency_new</th>\n",
              "      <th>Frequency_new</th>\n",
              "      <th>Monetary_new</th>\n",
              "      <th>clusters</th>\n",
              "    </tr>\n",
              "    <tr>\n",
              "      <th>Customer ID</th>\n",
              "      <th></th>\n",
              "      <th></th>\n",
              "      <th></th>\n",
              "      <th></th>\n",
              "    </tr>\n",
              "  </thead>\n",
              "  <tbody>\n",
              "    <tr>\n",
              "      <th>12346.00000</th>\n",
              "      <td>0.87131</td>\n",
              "      <td>0.00000</td>\n",
              "      <td>0.27544</td>\n",
              "      <td>4</td>\n",
              "    </tr>\n",
              "    <tr>\n",
              "      <th>12347.00000</th>\n",
              "      <td>0.00536</td>\n",
              "      <td>0.02885</td>\n",
              "      <td>0.01537</td>\n",
              "      <td>2</td>\n",
              "    </tr>\n",
              "    <tr>\n",
              "      <th>12348.00000</th>\n",
              "      <td>0.20107</td>\n",
              "      <td>0.01442</td>\n",
              "      <td>0.00640</td>\n",
              "      <td>0</td>\n",
              "    </tr>\n",
              "    <tr>\n",
              "      <th>12349.00000</th>\n",
              "      <td>0.04826</td>\n",
              "      <td>0.00000</td>\n",
              "      <td>0.00626</td>\n",
              "      <td>2</td>\n",
              "    </tr>\n",
              "    <tr>\n",
              "      <th>12350.00000</th>\n",
              "      <td>0.83110</td>\n",
              "      <td>0.00000</td>\n",
              "      <td>0.00118</td>\n",
              "      <td>4</td>\n",
              "    </tr>\n",
              "  </tbody>\n",
              "</table>\n",
              "</div>"
            ],
            "text/plain": [
              "             Recency_new  Frequency_new  Monetary_new  clusters\n",
              "Customer ID                                                    \n",
              "12346.00000      0.87131        0.00000       0.27544         4\n",
              "12347.00000      0.00536        0.02885       0.01537         2\n",
              "12348.00000      0.20107        0.01442       0.00640         0\n",
              "12349.00000      0.04826        0.00000       0.00626         2\n",
              "12350.00000      0.83110        0.00000       0.00118         4"
            ]
          },
          "metadata": {},
          "execution_count": 146
        }
      ]
    },
    {
      "cell_type": "code",
      "metadata": {
        "colab": {
          "base_uri": "https://localhost:8080/"
        },
        "id": "h3jXfNWvG8Be",
        "outputId": "460ac5b8-29b3-4428-ad5f-0bd449da4617"
      },
      "source": [
        "segment_data[\"clusters\"].value_counts() # how many values are there in the clusters"
      ],
      "execution_count": 147,
      "outputs": [
        {
          "output_type": "execute_result",
          "data": {
            "text/plain": [
              "2    2034\n",
              "0    1034\n",
              "3     517\n",
              "1     439\n",
              "4     290\n",
              "5      24\n",
              "Name: clusters, dtype: int64"
            ]
          },
          "metadata": {},
          "execution_count": 147
        }
      ]
    },
    {
      "cell_type": "code",
      "metadata": {
        "colab": {
          "base_uri": "https://localhost:8080/",
          "height": 360
        },
        "id": "xyGHGK4hHKlY",
        "outputId": "d2a2892d-8ec0-4da4-fdd9-17a82c84371b"
      },
      "source": [
        "clusters = kmeans.labels_\n",
        "\n",
        "pd.DataFrame({\"CustomerID\": segment_data.index, \"Clusters\": clusters}).head(10)"
      ],
      "execution_count": 148,
      "outputs": [
        {
          "output_type": "execute_result",
          "data": {
            "text/html": [
              "<div>\n",
              "<style scoped>\n",
              "    .dataframe tbody tr th:only-of-type {\n",
              "        vertical-align: middle;\n",
              "    }\n",
              "\n",
              "    .dataframe tbody tr th {\n",
              "        vertical-align: top;\n",
              "    }\n",
              "\n",
              "    .dataframe thead th {\n",
              "        text-align: right;\n",
              "    }\n",
              "</style>\n",
              "<table border=\"1\" class=\"dataframe\">\n",
              "  <thead>\n",
              "    <tr style=\"text-align: right;\">\n",
              "      <th></th>\n",
              "      <th>CustomerID</th>\n",
              "      <th>Clusters</th>\n",
              "    </tr>\n",
              "  </thead>\n",
              "  <tbody>\n",
              "    <tr>\n",
              "      <th>0</th>\n",
              "      <td>12346.00000</td>\n",
              "      <td>4</td>\n",
              "    </tr>\n",
              "    <tr>\n",
              "      <th>1</th>\n",
              "      <td>12347.00000</td>\n",
              "      <td>2</td>\n",
              "    </tr>\n",
              "    <tr>\n",
              "      <th>2</th>\n",
              "      <td>12348.00000</td>\n",
              "      <td>0</td>\n",
              "    </tr>\n",
              "    <tr>\n",
              "      <th>3</th>\n",
              "      <td>12349.00000</td>\n",
              "      <td>2</td>\n",
              "    </tr>\n",
              "    <tr>\n",
              "      <th>4</th>\n",
              "      <td>12350.00000</td>\n",
              "      <td>4</td>\n",
              "    </tr>\n",
              "    <tr>\n",
              "      <th>5</th>\n",
              "      <td>12352.00000</td>\n",
              "      <td>2</td>\n",
              "    </tr>\n",
              "    <tr>\n",
              "      <th>6</th>\n",
              "      <td>12353.00000</td>\n",
              "      <td>1</td>\n",
              "    </tr>\n",
              "    <tr>\n",
              "      <th>7</th>\n",
              "      <td>12354.00000</td>\n",
              "      <td>1</td>\n",
              "    </tr>\n",
              "    <tr>\n",
              "      <th>8</th>\n",
              "      <td>12355.00000</td>\n",
              "      <td>1</td>\n",
              "    </tr>\n",
              "    <tr>\n",
              "      <th>9</th>\n",
              "      <td>12356.00000</td>\n",
              "      <td>2</td>\n",
              "    </tr>\n",
              "  </tbody>\n",
              "</table>\n",
              "</div>"
            ],
            "text/plain": [
              "   CustomerID  Clusters\n",
              "0 12346.00000         4\n",
              "1 12347.00000         2\n",
              "2 12348.00000         0\n",
              "3 12349.00000         2\n",
              "4 12350.00000         4\n",
              "5 12352.00000         2\n",
              "6 12353.00000         1\n",
              "7 12354.00000         1\n",
              "8 12355.00000         1\n",
              "9 12356.00000         2"
            ]
          },
          "metadata": {},
          "execution_count": 148
        }
      ]
    },
    {
      "cell_type": "code",
      "metadata": {
        "colab": {
          "base_uri": "https://localhost:8080/",
          "height": 236
        },
        "id": "xbt_gEmuHlGf",
        "outputId": "d4f50e73-f0ee-43d5-ec8e-50ad7d4b5262"
      },
      "source": [
        "segmentation = rfm.merge(segment_data, on = \"Customer ID\")\n",
        "segmentation.head()"
      ],
      "execution_count": 149,
      "outputs": [
        {
          "output_type": "execute_result",
          "data": {
            "text/html": [
              "<div>\n",
              "<style scoped>\n",
              "    .dataframe tbody tr th:only-of-type {\n",
              "        vertical-align: middle;\n",
              "    }\n",
              "\n",
              "    .dataframe tbody tr th {\n",
              "        vertical-align: top;\n",
              "    }\n",
              "\n",
              "    .dataframe thead th {\n",
              "        text-align: right;\n",
              "    }\n",
              "</style>\n",
              "<table border=\"1\" class=\"dataframe\">\n",
              "  <thead>\n",
              "    <tr style=\"text-align: right;\">\n",
              "      <th></th>\n",
              "      <th>recency</th>\n",
              "      <th>frequency</th>\n",
              "      <th>monetary</th>\n",
              "      <th>recency_score</th>\n",
              "      <th>frequency_score</th>\n",
              "      <th>monetary_score</th>\n",
              "      <th>RFM_SCORE</th>\n",
              "      <th>segment</th>\n",
              "      <th>Recency_new</th>\n",
              "      <th>Frequency_new</th>\n",
              "      <th>Monetary_new</th>\n",
              "      <th>clusters</th>\n",
              "    </tr>\n",
              "    <tr>\n",
              "      <th>Customer ID</th>\n",
              "      <th></th>\n",
              "      <th></th>\n",
              "      <th></th>\n",
              "      <th></th>\n",
              "      <th></th>\n",
              "      <th></th>\n",
              "      <th></th>\n",
              "      <th></th>\n",
              "      <th></th>\n",
              "      <th></th>\n",
              "      <th></th>\n",
              "      <th></th>\n",
              "    </tr>\n",
              "  </thead>\n",
              "  <tbody>\n",
              "    <tr>\n",
              "      <th>12346.00000</th>\n",
              "      <td>326</td>\n",
              "      <td>1</td>\n",
              "      <td>77183.60000</td>\n",
              "      <td>1</td>\n",
              "      <td>1</td>\n",
              "      <td>5</td>\n",
              "      <td>11</td>\n",
              "      <td>hibernating</td>\n",
              "      <td>0.87131</td>\n",
              "      <td>0.00000</td>\n",
              "      <td>0.27544</td>\n",
              "      <td>4</td>\n",
              "    </tr>\n",
              "    <tr>\n",
              "      <th>12347.00000</th>\n",
              "      <td>3</td>\n",
              "      <td>7</td>\n",
              "      <td>4310.00000</td>\n",
              "      <td>5</td>\n",
              "      <td>5</td>\n",
              "      <td>5</td>\n",
              "      <td>55</td>\n",
              "      <td>champions</td>\n",
              "      <td>0.00536</td>\n",
              "      <td>0.02885</td>\n",
              "      <td>0.01537</td>\n",
              "      <td>2</td>\n",
              "    </tr>\n",
              "    <tr>\n",
              "      <th>12348.00000</th>\n",
              "      <td>76</td>\n",
              "      <td>4</td>\n",
              "      <td>1797.24000</td>\n",
              "      <td>2</td>\n",
              "      <td>4</td>\n",
              "      <td>4</td>\n",
              "      <td>24</td>\n",
              "      <td>at_Risk</td>\n",
              "      <td>0.20107</td>\n",
              "      <td>0.01442</td>\n",
              "      <td>0.00640</td>\n",
              "      <td>0</td>\n",
              "    </tr>\n",
              "    <tr>\n",
              "      <th>12349.00000</th>\n",
              "      <td>19</td>\n",
              "      <td>1</td>\n",
              "      <td>1757.55000</td>\n",
              "      <td>4</td>\n",
              "      <td>1</td>\n",
              "      <td>4</td>\n",
              "      <td>41</td>\n",
              "      <td>promising</td>\n",
              "      <td>0.04826</td>\n",
              "      <td>0.00000</td>\n",
              "      <td>0.00626</td>\n",
              "      <td>2</td>\n",
              "    </tr>\n",
              "    <tr>\n",
              "      <th>12350.00000</th>\n",
              "      <td>311</td>\n",
              "      <td>1</td>\n",
              "      <td>334.40000</td>\n",
              "      <td>1</td>\n",
              "      <td>1</td>\n",
              "      <td>2</td>\n",
              "      <td>11</td>\n",
              "      <td>hibernating</td>\n",
              "      <td>0.83110</td>\n",
              "      <td>0.00000</td>\n",
              "      <td>0.00118</td>\n",
              "      <td>4</td>\n",
              "    </tr>\n",
              "  </tbody>\n",
              "</table>\n",
              "</div>"
            ],
            "text/plain": [
              "             recency  frequency    monetary recency_score frequency_score monetary_score RFM_SCORE      segment  Recency_new  Frequency_new  Monetary_new  clusters\n",
              "Customer ID                                                                                                                                                        \n",
              "12346.00000      326          1 77183.60000             1               1              5        11  hibernating      0.87131        0.00000       0.27544         4\n",
              "12347.00000        3          7  4310.00000             5               5              5        55    champions      0.00536        0.02885       0.01537         2\n",
              "12348.00000       76          4  1797.24000             2               4              4        24      at_Risk      0.20107        0.01442       0.00640         0\n",
              "12349.00000       19          1  1757.55000             4               1              4        41    promising      0.04826        0.00000       0.00626         2\n",
              "12350.00000      311          1   334.40000             1               1              2        11  hibernating      0.83110        0.00000       0.00118         4"
            ]
          },
          "metadata": {},
          "execution_count": 149
        }
      ]
    }
  ]
}